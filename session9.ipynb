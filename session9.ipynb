{
 "cells": [
  {
   "cell_type": "code",
   "execution_count": 1,
   "id": "2e33c1f9",
   "metadata": {},
   "outputs": [],
   "source": [
    "from io import StringIO\n",
    "import sys\n",
    "class Capturing(list):\n",
    "    def __enter__(self):\n",
    "        self._stdout = sys.stdout\n",
    "        sys.stdout = self._stringio = StringIO()\n",
    "        return self\n",
    "\n",
    "    def __exit__(self, *args):\n",
    "        self.extend(self._stringio.getvalue().splitlines())\n",
    "        del self._stringio    # free up some memory\n",
    "        sys.stdout = self._stdout"
   ]
  },
  {
   "cell_type": "markdown",
   "id": "65069dde",
   "metadata": {},
   "source": [
    "# Question 1"
   ]
  },
  {
   "cell_type": "code",
   "execution_count": 2,
   "id": "f12dbd59",
   "metadata": {},
   "outputs": [],
   "source": [
    "def profile_nt():\n",
    "    '''\n",
    "    This function generates profiles for 100 individuals. The profiles are stored\n",
    "    in named tuples. The most common blood type, oldest age, mean age, and the \n",
    "    mean location are printed.\n",
    "    '''\n",
    "    #########################################\n",
    "    ##############  Imports  ################\n",
    "    #########################################\n",
    "    from faker import Faker\n",
    "    from collections import namedtuple\n",
    "    from collections import Counter\n",
    "    import datetime\n",
    "    from time import perf_counter\n",
    "\n",
    "    #########################################\n",
    "    ###### Intitializing the Objects ########\n",
    "    #########################################\n",
    "    fake = Faker()\n",
    "    blood_count = Counter()\n",
    "\n",
    "\n",
    "    #########################################\n",
    "    ####### Defining the NamedTuple #########\n",
    "    #########################################\n",
    "    profile = namedtuple('profile', ['job', 'company', 'ssn', 'residence', 'current_location',\n",
    "                        'blood_group', 'website', 'username', 'name', 'sex', 'address', 'mail', 'birthdate'])\n",
    "    profile.__doc__ = 'Fake personnel profile using faker library'\n",
    "\n",
    "    start = perf_counter()\n",
    "    #########################################\n",
    "    ######## Creating the Profiles ##########\n",
    "    #########################################\n",
    "    cnt = 10000\n",
    "    for c in range(cnt):\n",
    "        globals()['profile' + str(c)] = profile(**fake.profile())\n",
    "\n",
    "\n",
    "    lat = 0\n",
    "    lng = 0\n",
    "    mindob = datetime.date(datetime.datetime.now().year,\n",
    "                        datetime.datetime.now().month, datetime.datetime.now().day)\n",
    "    sumdob = datetime.timedelta(0)\n",
    "    today = datetime.date(datetime.datetime.now().year,\n",
    "                        datetime.datetime.now().month, datetime.datetime.now().day)\n",
    "    for c in range(cnt):\n",
    "        blood_count.update([(globals()['profile' + str(c)]).blood_group])\n",
    "        lat += (globals()['profile' + str(c)]).current_location[0]\n",
    "        lng += (globals()['profile' + str(c)]).current_location[1]\n",
    "        mindob = min(mindob, (globals()['profile' + str(c)]).birthdate)\n",
    "        sumdob += today - (globals()['profile' + str(c)]).birthdate\n",
    "\n",
    "    lat = lat/cnt\n",
    "    lng = lng/cnt\n",
    "\n",
    "    sumdob = int(sumdob.days / cnt)\n",
    "    avg_year = sumdob // 365\n",
    "    avg_mnt = (sumdob - avg_year * 365) // 30\n",
    "    avg_day = (sumdob - avg_year * 365 - avg_mnt*30)\n",
    "\n",
    "    max_age = (today - mindob).days\n",
    "    max_year = max_age // 365\n",
    "    max_mnt = (max_age - max_year * 365) // 30\n",
    "    max_day = round((max_age - max_year * 365 - max_mnt*30),0)\n",
    "\n",
    "    common_bt = blood_count.most_common(1)[0][0]\n",
    "    common_bt_cnt = blood_count.most_common(1)[0][1]\n",
    "\n",
    "    print(\n",
    "        f'The most common blood type is {common_bt} with {common_bt_cnt} counts')\n",
    "    print(f'Avg. Age is {avg_year} Years, {avg_mnt} Months, and {avg_day} Days')\n",
    "    print(f'Oldest. Age is {max_year} Years, {max_mnt} Months, and {max_day} Days')\n",
    "    print(f'Mean location is ({lat}, {lng})')\n",
    "    end = perf_counter()\n",
    "\n",
    "    total_elapsed = end - start\n",
    "    print(f'Time {total_elapsed}')\n",
    "\n",
    "    return {'count': cnt, 'common_bt_cnt': common_bt_cnt, 'avg_year': avg_year, 'avg_mnt': avg_mnt, 'avg_day': avg_day, 'max_year': max_year, 'max_mnt': max_mnt, 'max_day' : max_day,  'mean_location': (lat, lng) }"
   ]
  },
  {
   "cell_type": "code",
   "execution_count": 3,
   "id": "6e10b811",
   "metadata": {},
   "outputs": [
    {
     "name": "stdout",
     "output_type": "stream",
     "text": [
      "The most common blood type is A+ with 1281 counts\n",
      "Avg. Age is 57 Years, 5 Months, and 13 Days\n",
      "Oldest. Age is 116 Years, 0 Months, and 21 Days\n",
      "Mean location is (-0.18607559955, -0.0880786109)\n",
      "Time 11.361591549999503\n"
     ]
    }
   ],
   "source": [
    "a = profile_nt()"
   ]
  },
  {
   "cell_type": "markdown",
   "id": "7e0691b7",
   "metadata": {},
   "source": [
    "## Test Cases"
   ]
  },
  {
   "cell_type": "code",
   "execution_count": 4,
   "id": "d1b9568c",
   "metadata": {},
   "outputs": [],
   "source": [
    "def test_profile_nt():\n",
    "    a = profile_nt()\n",
    "    assert a['count'] == 10000, \"Number of profiles must be 10000!\"\n",
    "    assert a['common_bt_cnt'] <= a['count'], \"Max blood type count exceeds number of profiles!\"\n",
    "    assert [True if a['max_year'] > a['avg_year'] else (True if a['max_mnt'] > a['avg_mnt'] else(\n",
    "        True if a['max_day'] > a['avg_day'] else False))], \"How can the max age be less than the average age!\"\n",
    "    assert len(a.keys()) >= 8, 'Insufficient number of outputs in your code!'\n",
    "    assert sum(number < 0 for number in [a['max_year'], a['max_mnt'], a['max_day'], \\\n",
    "                                         a['avg_year'], a['avg_mnt'], a['avg_day']]) == 0, \"Year/Month/Day cannot be negative\"\n",
    "    assert profile_nt.__doc__, \"Your function must have a docstring\"\n",
    "\n",
    "    with Capturing() as output:\n",
    "        profile_nt()\n",
    "    assert any([\"Time\" in o for o in output]), \"How will you compare the time with the dictionary approach???\"\n"
   ]
  },
  {
   "cell_type": "code",
   "execution_count": 5,
   "id": "b8943018",
   "metadata": {},
   "outputs": [
    {
     "name": "stdout",
     "output_type": "stream",
     "text": [
      "The most common blood type is B+ with 1312 counts\n",
      "Avg. Age is 57 Years, 9 Months, and 7 Days\n",
      "Oldest. Age is 116 Years, 0 Months, and 16 Days\n",
      "Mean location is (0.16693314585, 0.7561320293)\n",
      "Time 12.710850941999524\n"
     ]
    }
   ],
   "source": [
    "test_profile_nt()"
   ]
  },
  {
   "cell_type": "markdown",
   "id": "67fd2f73",
   "metadata": {},
   "source": [
    "# Question 2"
   ]
  },
  {
   "cell_type": "code",
   "execution_count": 6,
   "id": "bb4cec0e",
   "metadata": {},
   "outputs": [],
   "source": [
    "def profile_dict():\n",
    "    '''\n",
    "    This function generates profiles for 100 individuals. The profiles are stored\n",
    "    in dictionaries. The most common blood type, oldest age, mean age, and the \n",
    "    mean location are printed.\n",
    "    '''\n",
    "    #########################################\n",
    "    ##############  Imports  ################\n",
    "    #########################################\n",
    "    from faker import Faker\n",
    "    from collections import Counter\n",
    "    import datetime\n",
    "    from time import perf_counter\n",
    "\n",
    "    #########################################\n",
    "    ###### Intitializing the Objects ########\n",
    "    #########################################\n",
    "    fake = Faker()\n",
    "    blood_count = Counter()\n",
    "\n",
    "    start = perf_counter()\n",
    "    #########################################\n",
    "    ######## Creating the Profiles ##########\n",
    "    #########################################\n",
    "    cnt = 10000\n",
    "    for c in range(cnt):\n",
    "        globals()['profile' + str(c)] = fake.profile()\n",
    "\n",
    "    lat = 0\n",
    "    lng = 0\n",
    "    dob = datetime.date(datetime.datetime.now().year,\n",
    "                        datetime.datetime.now().month, datetime.datetime.now().day)\n",
    "    sumdob = datetime.timedelta(0)\n",
    "    today = datetime.date(2021, 1, 1)\n",
    "\n",
    "    for c in range(cnt):\n",
    "        blood_count.update([(globals()['profile' + str(c)]).get('blood_group')])\n",
    "\n",
    "        lat += (globals()['profile' + str(c)]).get('current_location')[0]\n",
    "        lng += (globals()['profile' + str(c)]).get('current_location')[1]\n",
    "        dob = min(dob, (globals()['profile' + str(c)]).get('birthdate'))\n",
    "        sumdob += today - (globals()['profile' + str(c)]).get('birthdate')\n",
    "\n",
    "    lat = lat/cnt\n",
    "    lng = lng/cnt\n",
    "\n",
    "    sumdob = sumdob.days / cnt\n",
    "    avg_year = sumdob // 365\n",
    "    avg_mnt = (sumdob - avg_year * 365) // 30\n",
    "    avg_day = (sumdob - avg_year * 365 - avg_mnt*30)\n",
    "\n",
    "    max_age = (today - dob).days\n",
    "    max_year = max_age // 365\n",
    "    max_mnt = (max_age - max_year * 365) // 30\n",
    "    max_day = (max_age - max_year * 365 - max_mnt*30)\n",
    "\n",
    "    common_bt = blood_count.most_common(1)[0][0]\n",
    "    common_bt_cnt = blood_count.most_common(1)[0][1]\n",
    "\n",
    "    print(\n",
    "        f'The most common blood type is {common_bt} with {common_bt_cnt} counts')\n",
    "    print(f'Avg. Age is {avg_year} Years, {avg_mnt} Months, and {avg_day} Days')\n",
    "    print(f'Oldest. Age is {max_year} Years, {max_mnt} Months, and {max_day} Days')\n",
    "    print(f'Mean location is ({lat}, {lng})')\n",
    "    end = perf_counter()\n",
    "\n",
    "    total_elapsed = end - start\n",
    "    print(f'Time {total_elapsed}')\n",
    "\n",
    "    return {'count': cnt, 'common_bt_cnt': common_bt_cnt, 'avg_year': avg_year, 'avg_mnt': avg_mnt, 'avg_day': avg_day, 'max_year': max_year, 'max_mnt': max_mnt, 'max_day' : max_day,  'mean_location': (lat, lng) }"
   ]
  },
  {
   "cell_type": "code",
   "execution_count": 7,
   "id": "30a05a8a",
   "metadata": {},
   "outputs": [
    {
     "name": "stdout",
     "output_type": "stream",
     "text": [
      "The most common blood type is A+ with 1299 counts\n",
      "Avg. Age is 57.0 Years, 1.0 Months, and 24.15100000000166 Days\n",
      "Oldest. Age is 115 Years, 6 Months, and 24 Days\n",
      "Mean location is (-0.14151207115, 2.1849021149)\n",
      "Time 11.950717317999988\n"
     ]
    }
   ],
   "source": [
    "a = profile_dict()"
   ]
  },
  {
   "cell_type": "markdown",
   "id": "efd76a1e",
   "metadata": {},
   "source": [
    "## Test Cases"
   ]
  },
  {
   "cell_type": "code",
   "execution_count": 8,
   "id": "7a83f992",
   "metadata": {},
   "outputs": [],
   "source": [
    "def test_profile_dict():\n",
    "    a = profile_dict()\n",
    "    assert a['count'] == 10000, \"Number of profiles must be 10000!\"\n",
    "    assert a['common_bt_cnt'] <= a['count'], \"Max blood type count exceeds number of profiles!\"\n",
    "    assert [True if a['max_year'] > a['avg_year'] else (True if a['max_mnt'] > a['avg_mnt'] else(\n",
    "        True if a['max_day'] > a['avg_day'] else False))], \"How can the max age be less than the average age!\"\n",
    "    assert len(a.keys()) >= 8, 'Insufficient number of outputs in your code!'\n",
    "    assert sum(number < 0 for number in [a['max_year'], a['max_mnt'], a['max_day'], \\\n",
    "                                         a['avg_year'], a['avg_mnt'], a['avg_day']]) == 0, \"Year/Month/Day cannot be negative\"\n",
    "    assert profile_dict.__doc__, \"Your function must have a docstring\"\n",
    "\n",
    "    with Capturing() as output:\n",
    "        profile_dict()\n",
    "    assert any([\"Time\" in o for o in output]), \"How will you compare the time with the named tuple approach???\"\n"
   ]
  },
  {
   "cell_type": "code",
   "execution_count": 9,
   "id": "3189247c",
   "metadata": {},
   "outputs": [
    {
     "name": "stdout",
     "output_type": "stream",
     "text": [
      "The most common blood type is O+ with 1275 counts\n",
      "Avg. Age is 57.0 Years, 10.0 Months, and 19.32170000000042 Days\n",
      "Oldest. Age is 115 Years, 6 Months, and 26 Days\n",
      "Mean location is (0.12567667875, 1.4052466025)\n",
      "Time 10.950223064000056\n"
     ]
    }
   ],
   "source": [
    "test_profile_dict()"
   ]
  },
  {
   "cell_type": "markdown",
   "id": "6690d21c",
   "metadata": {},
   "source": [
    "# Question 3"
   ]
  },
  {
   "cell_type": "code",
   "execution_count": 10,
   "id": "55dc0d85",
   "metadata": {},
   "outputs": [],
   "source": [
    "def company_fn():\n",
    "    '''\n",
    "    A function to generate profiles of 100 companies. The Stock values are\n",
    "    intialized using random values (and so are the fluctuations). Low was not explicitly\n",
    "    asked, but was hinted by the instructor while presenting test cases. \n",
    "    '''\n",
    "    #########################################\n",
    "    ##############  Imports  ################\n",
    "    #########################################\n",
    "    from faker import Faker\n",
    "    from collections import namedtuple\n",
    "    import random\n",
    "\n",
    "    #########################################\n",
    "    ###### Intitializing the Objects ########\n",
    "    #########################################\n",
    "    fake = Faker()\n",
    "\n",
    "\n",
    "    #########################################\n",
    "    ####### Defining the NamedTuple #########\n",
    "    #########################################\n",
    "    company = namedtuple(\n",
    "        'company', ['name', 'symbol', 'open', 'high', 'low', 'close'])\n",
    "    company.__doc__ = \"Company stock profile with current market trend values\"\n",
    "\n",
    "    #########################################\n",
    "    ######## Creating the Profiles ##########\n",
    "    #########################################\n",
    "    cnt = 100\n",
    "    for c in range(cnt):\n",
    "        comp_name = fake.company()\n",
    "        comp_symb = comp_name\n",
    "        open = random.randint(80, 950)\n",
    "        fluctuations = [open * random.uniform(0.5, 1.5) for _ in range(48)]\n",
    "        close = fluctuations[-1]\n",
    "        high = max(fluctuations)\n",
    "        low = min(fluctuations)\n",
    "        globals()['company' + str(c)] = company(comp_name,\n",
    "                                                comp_symb, open, high, low, close)\n",
    "\n",
    "    #########################################\n",
    "    ######## Analyzing the Profiles #########\n",
    "    #########################################\n",
    "    stock_open, stock_high, stock_low, stock_close = 0, 0, 0, 0\n",
    "    weights = [random.uniform(0.1, 0.9) for _ in range(cnt)]\n",
    "    norm_wts = [x/sum(weights) for x in weights]\n",
    "    for c in range(cnt):\n",
    "        stock_open += (globals()['company' + str(c)]).open * norm_wts[c]\n",
    "        stock_high += (globals()['company' + str(c)]).high * norm_wts[c]\n",
    "        stock_low += (globals()['company' + str(c)]).low * norm_wts[c]\n",
    "        stock_close += (globals()['company' + str(c)]).close * norm_wts[c]\n",
    "\n",
    "    #########################################\n",
    "    ####### Determination of High/Low #######\n",
    "    #########################################\n",
    "    stock_high = stock_close if stock_close > stock_high else stock_high\n",
    "    stock_low = stock_close if stock_close < stock_low else stock_low\n",
    "\n",
    "    stock_open, stock_high, stock_low, stock_close = round(stock_open, 2), round(\n",
    "        stock_high, 2), round(stock_low, 2), round(stock_close, 2)\n",
    "\n",
    "    print(f'Stock opened at:{stock_open}')\n",
    "    print(f'Stock highest:{stock_high}')\n",
    "    print(f'Stock lowest:{stock_low}')\n",
    "    print(f'Stock closed at:{stock_close}')\n",
    "\n",
    "    return {'cmp_cnt': cnt, 'stock_open': stock_open, 'stock_high': stock_high, 'stock_low': stock_low, 'stock_close': stock_close}"
   ]
  },
  {
   "cell_type": "code",
   "execution_count": 11,
   "id": "f8478948",
   "metadata": {},
   "outputs": [],
   "source": [
    "def test_company_fn():\n",
    "    a = company_fn()\n",
    "    assert a['cmp_cnt'] == 100, \"Number of companies must be 100!\"\n",
    "    assert a['stock_high'] >= a['stock_low'], \"Stock High cannot be less than Stock Low\"\n",
    "    assert a['stock_high'] >= a['stock_open'], \"Stock High cannot be less than Stock Open\"\n",
    "    assert a['stock_high'] >= a['stock_close'], \"Stock High cannot be less than Stock Close\"\n",
    "    assert a['stock_high'] < 100 * a['stock_low'], \"Stock cannot vary too much\"\n",
    "    assert len(a.keys()) >= 5, 'Insufficient number of outputs in your code!'\n",
    "    assert company_fn.__doc__, \"Your function must have a docstring\"\n",
    "    \n",
    "    with Capturing() as output:\n",
    "        company_fn()\n",
    "    assert any([\"Stock open\" in o for o in output]), \"You must report the Stock Open\"\n",
    "    assert any([\"Stock high\" in o for o in output]), \"You must report the Stock High\"\n",
    "    assert any([\"Stock close\" in o for o in output]), \"You must report the Stock End\""
   ]
  },
  {
   "cell_type": "code",
   "execution_count": 12,
   "id": "f4e6e764",
   "metadata": {},
   "outputs": [
    {
     "name": "stdout",
     "output_type": "stream",
     "text": [
      "Stock opened at:509.9\n",
      "Stock highest:753.38\n",
      "Stock lowest:265.89\n",
      "Stock closed at:485.94\n"
     ]
    }
   ],
   "source": [
    "test_company_fn()"
   ]
  }
 ],
 "metadata": {
  "kernelspec": {
   "display_name": "default",
   "language": "python",
   "name": "python3"
  },
  "language_info": {
   "codemirror_mode": {
    "name": "ipython",
    "version": 3
   },
   "file_extension": ".py",
   "mimetype": "text/x-python",
   "name": "python",
   "nbconvert_exporter": "python",
   "pygments_lexer": "ipython3",
   "version": "3.8.10"
  }
 },
 "nbformat": 4,
 "nbformat_minor": 5
}
